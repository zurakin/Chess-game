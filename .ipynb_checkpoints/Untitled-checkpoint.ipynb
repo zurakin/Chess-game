{
 "cells": [
  {
   "cell_type": "code",
   "execution_count": 1,
   "metadata": {
    "scrolled": true
   },
   "outputs": [],
   "source": [
    "import game\n",
    "import pawn\n",
    "import bishop\n",
    "import knight\n",
    "import queen\n",
    "import rook\n",
    "import king\n",
    "import position_class\n",
    "\n",
    "\n",
    "game=game.Game()\n",
    "\n",
    "\n",
    "#team white\n",
    "Wpawn1=pawn.Pawn('H7','white',game)\n",
    "Wpawn2=pawn.Pawn('G7','white',game)\n",
    "Wpawn3=pawn.Pawn('F7','white',game)\n",
    "Wpawn4=pawn.Pawn('E7','white',game)\n",
    "Wpawn5=pawn.Pawn('D7','white',game)\n",
    "Wpawn6=pawn.Pawn('C7','white',game)\n",
    "Wpawn7=pawn.Pawn('B7','white',game)\n",
    "Wpawn8=pawn.Pawn('A7','white',game)\n",
    "\n",
    "Wknight1=knight.Knight(\"G8\",\"white\",game)\n",
    "Wknight2=knight.Knight(\"B8\",\"white\",game)\n",
    "\n",
    "Wbishop1=bishop.Bishop(\"F8\",\"white\",game)\n",
    "Wbishop2=bishop.Bishop(\"C8\",\"white\",game)\n",
    "\n",
    "Wrook1=rook.Rook(\"H8\",\"white\",game)\n",
    "Wrook2=rook.Rook(\"A8\",\"white\",game)\n",
    "\n",
    "Wking=king.King(\"D8\",\"white\",game)\n",
    "\n",
    "Wqueen=queen.Queen(\"E8\",\"white\",game)\n",
    "\n",
    "\n",
    "\n",
    "\n",
    "#team black\n",
    "Bpawn1=pawn.Pawn('H2','black',game)\n",
    "Bpawn2=pawn.Pawn('G2','black',game)\n",
    "Bpawn3=pawn.Pawn('F2','black',game)\n",
    "Bpawn4=pawn.Pawn('E2','black',game)\n",
    "Bpawn5=pawn.Pawn('D2','black',game)\n",
    "Bpawn6=pawn.Pawn('C2','black',game)\n",
    "Bpawn7=pawn.Pawn('B2','black',game)\n",
    "Bpawn8=pawn.Pawn('A2','black',game)\n",
    "\n",
    "Bknight1=knight.Knight(\"B1\",\"black\",game)\n",
    "Bknight2=knight.Knight(\"G1\",\"black\",game)\n",
    "\n",
    "Bbishop1=bishop.Bishop(\"F1\",\"black\",game)\n",
    "Bbishop2=bishop.Bishop(\"C1\",\"black\",game)\n",
    "\n",
    "Brook1=rook.Rook(\"H1\",\"black\",game)\n",
    "Brook2=rook.Rook(\"A1\",\"black\",game)\n",
    "\n",
    "Bking=king.King(\"D1\",\"black\",game)\n",
    "\n",
    "Bqueen=queen.Queen(\"E1\",\"black\",game)\n"
   ]
  },
  {
   "cell_type": "code",
   "execution_count": 2,
   "metadata": {},
   "outputs": [],
   "source": [
    "#ame.play()"
   ]
  },
  {
   "cell_type": "code",
   "execution_count": 3,
   "metadata": {},
   "outputs": [],
   "source": [
    "a=position_class.Position('E5',game)"
   ]
  },
  {
   "cell_type": "code",
   "execution_count": 14,
   "metadata": {},
   "outputs": [
    {
     "data": {
      "text/plain": [
       "[<position_class.Position at 0x5e664f0>,\n",
       " <position_class.Position at 0x5e66050>,\n",
       " <position_class.Position at 0x5e66150>,\n",
       " <position_class.Position at 0x5e660b0>,\n",
       " <position_class.Position at 0x5e664d0>,\n",
       " <position_class.Position at 0x5e66650>,\n",
       " <position_class.Position at 0x5e66590>,\n",
       " <position_class.Position at 0x5e66430>]"
      ]
     },
     "execution_count": 14,
     "metadata": {},
     "output_type": "execute_result"
    }
   ],
   "source": [
    "[x.position for x in a._get_line()]"
   ]
  },
  {
   "cell_type": "code",
   "execution_count": 4,
   "metadata": {},
   "outputs": [
    {
     "data": {
      "text/plain": [
       "['E7', 'E8']"
      ]
     },
     "execution_count": 4,
     "metadata": {},
     "output_type": "execute_result"
    }
   ],
   "source": [
    "game.board['D8'].possible_moves()"
   ]
  },
  {
   "cell_type": "code",
   "execution_count": 5,
   "metadata": {},
   "outputs": [
    {
     "data": {
      "text/plain": [
       "['E7', 'C8']"
      ]
     },
     "execution_count": 5,
     "metadata": {},
     "output_type": "execute_result"
    }
   ],
   "source": [
    "game.board['D8'].possible_attacks()"
   ]
  },
  {
   "cell_type": "code",
   "execution_count": 6,
   "metadata": {},
   "outputs": [
    {
     "name": "stdout",
     "output_type": "stream",
     "text": [
      "H1:black rook      G1:black knight    F1:black bishop    E1:black queen     D1:black king      C1:black bishop    B1:black knight    A1:black rook      \n",
      "\n",
      "H2:black pawn      G2:black pawn      F2:black pawn      E2:black pawn      D2:black pawn      C2:black pawn      B2:black pawn      A2:black pawn      \n",
      "\n",
      "H3:None            G3:None            F3:None            E3:None            D3:None            C3:None            B3:None            A3:None            \n",
      "\n",
      "H4:None            G4:None            F4:None            E4:None            D4:None            C4:None            B4:None            A4:None            \n",
      "\n",
      "H5:None            G5:None            F5:None            E5:None            D5:None            C5:None            B5:None            A5:None            \n",
      "\n",
      "H6:None            G6:None            F6:None            E6:None            D6:None            C6:None            B6:None            A6:None            \n",
      "\n",
      "H7:white pawn      G7:white pawn      F7:white pawn      E7:white pawn      D7:white pawn      C7:white pawn      B7:white pawn      A7:white pawn      \n",
      "\n",
      "H8:white rook      G8:white knight    F8:white bishop    E8:white queen     D8:white king      C8:white bishop    B8:white knight    A8:white rook      \n",
      "\n"
     ]
    }
   ],
   "source": [
    "game.draw()"
   ]
  },
  {
   "cell_type": "code",
   "execution_count": 7,
   "metadata": {},
   "outputs": [],
   "source": [
    "game.board['E2'].move('E4')"
   ]
  }
 ],
 "metadata": {
  "kernelspec": {
   "display_name": "Python 3",
   "language": "python",
   "name": "python3"
  },
  "language_info": {
   "codemirror_mode": {
    "name": "ipython",
    "version": 3
   },
   "file_extension": ".py",
   "mimetype": "text/x-python",
   "name": "python",
   "nbconvert_exporter": "python",
   "pygments_lexer": "ipython3",
   "version": "3.7.4"
  }
 },
 "nbformat": 4,
 "nbformat_minor": 2
}
